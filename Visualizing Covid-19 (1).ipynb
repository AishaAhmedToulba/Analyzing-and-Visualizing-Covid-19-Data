{
 "cells": [
  {
   "cell_type": "markdown",
   "id": "7c342c34",
   "metadata": {},
   "source": [
    "# About the project \n",
    "In December 2019, COVID-19 coronavirus was first identified in the Wuhan region of China. By March 11, 2020, the World Health Organization (WHO) categorized the COVID-19 outbreak as a pandemic. A lot has happened in the months in between with major outbreaks in Iran, South Korea, and Italy.\n",
    "\n",
    "We know that COVID-19 spreads through respiratory droplets, such as through coughing, sneezing, or speaking. But, how quickly did the virus spread across the globe? And, can we see any effect from country-wide policies, like shutdowns and quarantines?\n",
    "\n",
    "Fortunately, organizations around the world have been collecting data so that governments can monitor and learn from this pandemic.\n",
    "\n",
    "The objective of this project is to visualize covid-19 data from the first several weeks of the outbreak to see at what point this virus became a global pandemic."
   ]
  },
  {
   "cell_type": "code",
   "execution_count": 20,
   "id": "aadbf5b6",
   "metadata": {},
   "outputs": [],
   "source": [
    "# laoding the libraries \n",
    "library(readr)\n",
    "library(ggplot2)\n",
    "library(dplyr)"
   ]
  },
  {
   "cell_type": "code",
   "execution_count": 21,
   "id": "03c84dd6",
   "metadata": {},
   "outputs": [
    {
     "name": "stderr",
     "output_type": "stream",
     "text": [
      "\n",
      "\u001b[36m--\u001b[39m \u001b[1m\u001b[1mColumn specification\u001b[1m\u001b[22m \u001b[36m------------------------------------------------------------------------------------------------\u001b[39m\n",
      "cols(\n",
      "  date = col_date(format = \"\"),\n",
      "  cum_cases = col_double()\n",
      ")\n",
      "\n"
     ]
    },
    {
     "name": "stdout",
     "output_type": "stream",
     "text": [
      "Rows: 56\n",
      "Columns: 2\n",
      "$ date      <date> 2020-01-22, 2020-01-23, 2020-01-24, 2020-01-25, 2020-01-26,~\n",
      "$ cum_cases <dbl> 555, 653, 941, 1434, 2118, 2927, 5578, 6166, 8234, 9927, 120~\n"
     ]
    }
   ],
   "source": [
    "# loading the data \n",
    "confirmed_cases_worldwide <- read_csv('C:/Users/Atolb/Downloads/confirmed_cases_worldwide.csv')\n",
    "# getting glimpse about the data \n",
    "glimpse(confirmed_cases_worldwide)"
   ]
  },
  {
   "cell_type": "markdown",
   "id": "fdcc89da",
   "metadata": {},
   "source": [
    "## Confirmed cases throughout the world\n",
    "Let's draw a line plot to visualize the confirmed cases worldwide."
   ]
  },
  {
   "cell_type": "code",
   "execution_count": 22,
   "id": "01a2bf83",
   "metadata": {},
   "outputs": [
    {
     "data": {
      "text/html": [
       "<table>\n",
       "<thead><tr><th scope=col>date</th><th scope=col>cum_cases</th></tr></thead>\n",
       "<tbody>\n",
       "\t<tr><td>2020-01-22</td><td> 555      </td></tr>\n",
       "\t<tr><td>2020-01-23</td><td> 653      </td></tr>\n",
       "\t<tr><td>2020-01-24</td><td> 941      </td></tr>\n",
       "\t<tr><td>2020-01-25</td><td>1434      </td></tr>\n",
       "\t<tr><td>2020-01-26</td><td>2118      </td></tr>\n",
       "\t<tr><td>2020-01-27</td><td>2927      </td></tr>\n",
       "</tbody>\n",
       "</table>\n"
      ],
      "text/latex": [
       "\\begin{tabular}{r|ll}\n",
       " date & cum\\_cases\\\\\n",
       "\\hline\n",
       "\t 2020-01-22 &  555      \\\\\n",
       "\t 2020-01-23 &  653      \\\\\n",
       "\t 2020-01-24 &  941      \\\\\n",
       "\t 2020-01-25 & 1434      \\\\\n",
       "\t 2020-01-26 & 2118      \\\\\n",
       "\t 2020-01-27 & 2927      \\\\\n",
       "\\end{tabular}\n"
      ],
      "text/markdown": [
       "\n",
       "| date | cum_cases |\n",
       "|---|---|\n",
       "| 2020-01-22 |  555       |\n",
       "| 2020-01-23 |  653       |\n",
       "| 2020-01-24 |  941       |\n",
       "| 2020-01-25 | 1434       |\n",
       "| 2020-01-26 | 2118       |\n",
       "| 2020-01-27 | 2927       |\n",
       "\n"
      ],
      "text/plain": [
       "  date       cum_cases\n",
       "1 2020-01-22  555     \n",
       "2 2020-01-23  653     \n",
       "3 2020-01-24  941     \n",
       "4 2020-01-25 1434     \n",
       "5 2020-01-26 2118     \n",
       "6 2020-01-27 2927     "
      ]
     },
     "metadata": {},
     "output_type": "display_data"
    }
   ],
   "source": [
    "head(confirmed_cases_worldwide)"
   ]
  },
  {
   "cell_type": "code",
   "execution_count": 23,
   "id": "c663a87c",
   "metadata": {},
   "outputs": [
    {
     "data": {
      "image/png": "[encoded data removed]",
      "text/plain": [
       "plot without title"
      ]
     },
     "metadata": {},
     "output_type": "display_data"
    }
   ],
   "source": [
    "# Draw a line plot of cumulative cases vs. date\n",
    "# Label the y-axis\n",
    "ggplot(confirmed_cases_worldwide,aes(x=date,y=cum_cases)) +\n",
    "  geom_line() +\n",
    "  ylab('Cumulative confirmed cases')"
   ]
  },
  {
   "cell_type": "markdown",
   "id": "db51a756",
   "metadata": {},
   "source": [
    "## 3. China compared to the rest of the world \n",
    "The y-axis in that plot is pretty scary, with the total number of confirmed cases around the world approaching 200,000. Beyond that, some weird things are happening: there is an odd jump in mid February, then the rate of new cases slows down for a while, then speeds up again in March. We need to dig deeper to see what is happening.\n",
    "\n",
    "Early on in the outbreak, the COVID-19 cases were primarily centered in China. Let's plot confirmed COVID-19 cases in China and the rest of the world separately to see if it gives us any insight."
   ]
  },
  {
   "cell_type": "code",
   "execution_count": 6,
   "id": "faeccbdc",
   "metadata": {},
   "outputs": [
    {
     "name": "stderr",
     "output_type": "stream",
     "text": [
      "\n",
      "\u001b[36m--\u001b[39m \u001b[1m\u001b[1mColumn specification\u001b[1m\u001b[22m \u001b[36m------------------------------------------------------------------------------------------------\u001b[39m\n",
      "cols(\n",
      "  is_china = col_character(),\n",
      "  date = col_date(format = \"\"),\n",
      "  cases = col_double(),\n",
      "  cum_cases = col_double()\n",
      ")\n",
      "\n"
     ]
    },
    {
     "data": {
      "text/html": [
       "<table>\n",
       "<thead><tr><th scope=col>is_china</th><th scope=col>date</th><th scope=col>cases</th><th scope=col>cum_cases</th></tr></thead>\n",
       "<tbody>\n",
       "\t<tr><td>China     </td><td>2020-01-22</td><td>548       </td><td> 548      </td></tr>\n",
       "\t<tr><td>China     </td><td>2020-01-23</td><td> 95       </td><td> 643      </td></tr>\n",
       "\t<tr><td>China     </td><td>2020-01-24</td><td>277       </td><td> 920      </td></tr>\n",
       "\t<tr><td>China     </td><td>2020-01-25</td><td>486       </td><td>1406      </td></tr>\n",
       "\t<tr><td>China     </td><td>2020-01-26</td><td>669       </td><td>2075      </td></tr>\n",
       "\t<tr><td>China     </td><td>2020-01-27</td><td>802       </td><td>2877      </td></tr>\n",
       "</tbody>\n",
       "</table>\n"
      ],
      "text/latex": [
       "\\begin{tabular}{r|llll}\n",
       " is\\_china & date & cases & cum\\_cases\\\\\n",
       "\\hline\n",
       "\t China      & 2020-01-22 & 548        &  548      \\\\\n",
       "\t China      & 2020-01-23 &  95        &  643      \\\\\n",
       "\t China      & 2020-01-24 & 277        &  920      \\\\\n",
       "\t China      & 2020-01-25 & 486        & 1406      \\\\\n",
       "\t China      & 2020-01-26 & 669        & 2075      \\\\\n",
       "\t China      & 2020-01-27 & 802        & 2877      \\\\\n",
       "\\end{tabular}\n"
      ],
      "text/markdown": [
       "\n",
       "| is_china | date | cases | cum_cases |\n",
       "|---|---|---|---|\n",
       "| China      | 2020-01-22 | 548        |  548       |\n",
       "| China      | 2020-01-23 |  95        |  643       |\n",
       "| China      | 2020-01-24 | 277        |  920       |\n",
       "| China      | 2020-01-25 | 486        | 1406       |\n",
       "| China      | 2020-01-26 | 669        | 2075       |\n",
       "| China      | 2020-01-27 | 802        | 2877       |\n",
       "\n"
      ],
      "text/plain": [
       "  is_china date       cases cum_cases\n",
       "1 China    2020-01-22 548    548     \n",
       "2 China    2020-01-23  95    643     \n",
       "3 China    2020-01-24 277    920     \n",
       "4 China    2020-01-25 486   1406     \n",
       "5 China    2020-01-26 669   2075     \n",
       "6 China    2020-01-27 802   2877     "
      ]
     },
     "metadata": {},
     "output_type": "display_data"
    }
   ],
   "source": [
    "# Read in datasets/confirmed_cases_china_vs_world.csv\n",
    "confirmed_cases_china_vs_world <- read_csv('C:/Users/Atolb/Downloads/confirmed_cases_china_vs_world.csv')\n",
    "head(confirmed_cases_china_vs_world)"
   ]
  },
  {
   "cell_type": "code",
   "execution_count": 7,
   "id": "6e89546c",
   "metadata": {},
   "outputs": [
    {
     "data": {
      "image/png": "[encoded data removed]",
      "text/plain": [
       "plot without title"
      ]
     },
     "metadata": {},
     "output_type": "display_data"
    }
   ],
   "source": [
    "# Draw a line plot of cumulative cases vs. date, colored by is_china\n",
    "# Define aesthetics within the line geom\n",
    "plt_cum_confirmed_cases_china_vs_world <- ggplot(confirmed_cases_china_vs_world) +\n",
    "  geom_line(aes(x=date,y=cum_cases,color=is_china)) +\n",
    "  ylab(\"Cumulative confirmed cases\")\n",
    "plt_cum_confirmed_cases_china_vs_world"
   ]
  },
  {
   "cell_type": "markdown",
   "id": "881a5094",
   "metadata": {},
   "source": [
    "* In February, the majority of cases were in China. That changed in March when it really became a global outbreak: around March 14, the total number of cases outside China overtook the cases inside China. This was days after the WHO declared a pandemic.\n",
    "\n",
    "\n",
    "* There were a couple of other landmark events that happened during the outbreak. For example, the huge jump in the China line on February 13, 2020 wasn't just a bad day regarding the outbreak; China changed the way it reported figures on that day (CT scans were accepted as evidence for COVID-19, rather than only lab tests).\n",
    "\n",
    "* By annotating events like this, we can better interpret changes in the plot."
   ]
  },
  {
   "cell_type": "markdown",
   "id": "fb6e5f83",
   "metadata": {},
   "source": [
    "## 4. Let's annotate"
   ]
  },
  {
   "cell_type": "code",
   "execution_count": 25,
   "id": "d0f82649",
   "metadata": {},
   "outputs": [
    {
     "data": {
      "image/png": "[encoded data removed]",
      "text/plain": [
       "plot without title"
      ]
     },
     "metadata": {},
     "output_type": "display_data"
    }
   ],
   "source": [
    "who_events <- tribble(\n",
    "  ~ date, ~ event,\n",
    "  \"2020-01-30\", \"Global health\\nemergency declared\",\n",
    "  \"2020-03-11\", \"Pandemic\\ndeclared\",\n",
    "  \"2020-02-13\", \"China reporting\\nchange\"\n",
    ") %>%\n",
    "  mutate(date = as.Date(date))\n",
    "# Using who_events, add vertical dashed lines with an xintercept at date\n",
    "# and text at date, labeled by event, and at 100000 on the y-axis\n",
    "# Using who_events, add vertical dashed lines with an xintercept at date\n",
    "# and text at date, labeled by event, and at 100000 on the y-axis\n",
    "plt_cum_confirmed_cases_china_vs_world +\n",
    "geom_vline(aes(xintercept=date),data=who_events,linetype=\"dashed\") + \n",
    "geom_text(aes(date,label=event),data=who_events,y=1e5)"
   ]
  },
  {
   "cell_type": "markdown",
   "id": "94b3c298",
   "metadata": {},
   "source": [
    "## 5. Adding a trendline to China \n",
    "When trying to assess how big future problems are going to be, we need a measure of how fast the number of cases is growing. A good starting point is to see if the cases are growing faster or slower than linearly.\n",
    "\n",
    "There is a clear surge of cases around February 13, 2020, with the reporting change in China. However, a couple of days after, the growth of cases in China slows down. How can we describe COVID-19's growth in China after February 15, 2020?"
   ]
  },
  {
   "cell_type": "code",
   "execution_count": 9,
   "id": "eaa6e7d6",
   "metadata": {},
   "outputs": [
    {
     "name": "stderr",
     "output_type": "stream",
     "text": [
      "`geom_smooth()` using formula 'y ~ x'\n"
     ]
    },
    {
     "data": {
      "text/plain": [
       "$y\n",
       "[1] \"Cumulative confirmed cases\"\n",
       "\n",
       "attr(,\"class\")\n",
       "[1] \"labels\""
      ]
     },
     "metadata": {},
     "output_type": "display_data"
    },
    {
     "data": {
      "image/png": "[encoded data removed]",
      "text/plain": [
       "plot without title"
      ]
     },
     "metadata": {},
     "output_type": "display_data"
    }
   ],
   "source": [
    "# Filter for China, from Feb 15\n",
    "china_after_feb15 <- confirmed_cases_china_vs_world %>%\n",
    "   filter(is_china==\"China\", date >= \"2020-02-15\")\n",
    "\n",
    "# Using china_after_feb15, draw a line plot cum_cases vs. date\n",
    "# Add a smooth trend line using linear regression, no error bars\n",
    "ggplot(data=china_after_feb15,aes(x=date,y=cum_cases)) +\n",
    "  geom_line () +\n",
    "  geom_smooth(method='lm',se=FALSE)\n",
    "  ylab(\"Cumulative confirmed cases\")"
   ]
  },
  {
   "cell_type": "markdown",
   "id": "0dd54355",
   "metadata": {},
   "source": [
    "## 6. And the rest of the world ?\n",
    "\n",
    "From the plot above, the growth rate in China is slower than linear. That's great news because it indicates China has at least somewhat contained the virus in late February and early March.\n",
    "\n",
    "How does the rest of the world compare to linear growth?"
   ]
  },
  {
   "cell_type": "code",
   "execution_count": 10,
   "id": "a3d268eb",
   "metadata": {},
   "outputs": [
    {
     "name": "stderr",
     "output_type": "stream",
     "text": [
      "`geom_smooth()` using formula 'y ~ x'\n"
     ]
    },
    {
     "data": {
      "image/png": "[encoded data removed]",
      "text/plain": [
       "plot without title"
      ]
     },
     "metadata": {},
     "output_type": "display_data"
    }
   ],
   "source": [
    "# Filter confirmed_cases_china_vs_world for not China\n",
    "not_china <- confirmed_cases_china_vs_world %>%\n",
    "   filter(is_china==\"Not China\")\n",
    "\n",
    "# Using not_china, draw a line plot cum_cases vs. date\n",
    "# Add a smooth trend line using linear regression, no error bars\n",
    "plt_not_china_trend_lin <- ggplot(not_china,aes(x=date,y=cum_cases)) +\n",
    "  geom_line() +\n",
    "  geom_smooth(method='lm',se=FALSE) +\n",
    "  ylab(\"Cumulative confirmed cases\")\n",
    "\n",
    "# See the result\n",
    "plt_not_china_trend_lin "
   ]
  },
  {
   "cell_type": "code",
   "execution_count": 11,
   "id": "2aa4048f",
   "metadata": {},
   "outputs": [
    {
     "name": "stderr",
     "output_type": "stream",
     "text": [
      "`geom_smooth()` using formula 'y ~ x'\n"
     ]
    },
    {
     "data": {
      "image/png": "[encoded data removed]",
      "text/plain": [
       "plot without title"
      ]
     },
     "metadata": {},
     "output_type": "display_data"
    }
   ],
   "source": [
    "# Modify the plot to use a logarithmic scale on the y-axis\n",
    "plt_not_china_trend_lin + \n",
    "  scale_y_log10()"
   ]
  },
  {
   "cell_type": "markdown",
   "id": "86c22cc0",
   "metadata": {},
   "source": [
    "## 8. Which countries outside of China have been hit hardest?\n",
    "\n",
    "With the logarithmic scale, we get a much closer fit to the data. From a data science point of view, a good fit is great news. Unfortunately, from a public health point of view, that means that cases of COVID-19 in the rest of the world are growing at an exponential rate, which is terrible news.\n",
    "\n",
    "Not all countries are being affected by COVID-19 equally, and it would be helpful to know where in the world the problems are greatest. Let's find the countries outside of China with the most confirmed cases in our dataset."
   ]
  },
  {
   "cell_type": "code",
   "execution_count": 12,
   "id": "6908a042",
   "metadata": {},
   "outputs": [
    {
     "name": "stderr",
     "output_type": "stream",
     "text": [
      "\n",
      "\u001b[36m--\u001b[39m \u001b[1m\u001b[1mColumn specification\u001b[1m\u001b[22m \u001b[36m------------------------------------------------------------------------------------------------\u001b[39m\n",
      "cols(\n",
      "  country = col_character(),\n",
      "  province = col_character(),\n",
      "  date = col_date(format = \"\"),\n",
      "  cases = col_double(),\n",
      "  cum_cases = col_double()\n",
      ")\n",
      "\n"
     ]
    },
    {
     "name": "stdout",
     "output_type": "stream",
     "text": [
      "Rows: 13,272\n",
      "Columns: 5\n",
      "$ country   <chr> \"Afghanistan\", \"Albania\", \"Algeria\", \"Andorra\", \"Antigua and~\n",
      "$ province  <chr> NA, NA, NA, NA, NA, NA, NA, NA, NA, NA, NA, NA, NA, NA, NA, ~\n",
      "$ date      <date> 2020-01-22, 2020-01-22, 2020-01-22, 2020-01-22, 2020-01-22,~\n",
      "$ cases     <dbl> 0, 0, 0, 0, 0, 0, 0, 0, 0, 0, 0, 0, 0, 0, 0, 0, 0, 0, 0, 0, ~\n",
      "$ cum_cases <dbl> 0, 0, 0, 0, 0, 0, 0, 0, 0, 0, 0, 0, 0, 0, 0, 0, 0, 0, 0, 0, ~\n"
     ]
    }
   ],
   "source": [
    "\n",
    "# Run this to get the data for each country\n",
    "confirmed_cases_by_country <- read_csv('C:/Users/Atolb/Downloads/confirmed_cases_by_country.csv')\n",
    "glimpse(confirmed_cases_by_country)\n"
   ]
  },
  {
   "cell_type": "code",
   "execution_count": 13,
   "id": "f1055ed1",
   "metadata": {},
   "outputs": [
    {
     "name": "stderr",
     "output_type": "stream",
     "text": [
      "Selecting by total_cases\n"
     ]
    },
    {
     "data": {
      "text/html": [
       "<table>\n",
       "<thead><tr><th scope=col>country</th><th scope=col>total_cases</th></tr></thead>\n",
       "<tbody>\n",
       "\t<tr><td>France      </td><td> 7699       </td></tr>\n",
       "\t<tr><td>Germany     </td><td> 9257       </td></tr>\n",
       "\t<tr><td>Iran        </td><td>16169       </td></tr>\n",
       "\t<tr><td>Italy       </td><td>31506       </td></tr>\n",
       "\t<tr><td>Korea, South</td><td> 8320       </td></tr>\n",
       "\t<tr><td>Spain       </td><td>11748       </td></tr>\n",
       "\t<tr><td>US          </td><td> 6421       </td></tr>\n",
       "</tbody>\n",
       "</table>\n"
      ],
      "text/latex": [
       "\\begin{tabular}{r|ll}\n",
       " country & total\\_cases\\\\\n",
       "\\hline\n",
       "\t France       &  7699       \\\\\n",
       "\t Germany      &  9257       \\\\\n",
       "\t Iran         & 16169       \\\\\n",
       "\t Italy        & 31506       \\\\\n",
       "\t Korea, South &  8320       \\\\\n",
       "\t Spain        & 11748       \\\\\n",
       "\t US           &  6421       \\\\\n",
       "\\end{tabular}\n"
      ],
      "text/markdown": [
       "\n",
       "| country | total_cases |\n",
       "|---|---|\n",
       "| France       |  7699        |\n",
       "| Germany      |  9257        |\n",
       "| Iran         | 16169        |\n",
       "| Italy        | 31506        |\n",
       "| Korea, South |  8320        |\n",
       "| Spain        | 11748        |\n",
       "| US           |  6421        |\n",
       "\n"
      ],
      "text/plain": [
       "  country      total_cases\n",
       "1 France        7699      \n",
       "2 Germany       9257      \n",
       "3 Iran         16169      \n",
       "4 Italy        31506      \n",
       "5 Korea, South  8320      \n",
       "6 Spain        11748      \n",
       "7 US            6421      "
      ]
     },
     "metadata": {},
     "output_type": "display_data"
    }
   ],
   "source": [
    "# Group by country, summarize to calculate total cases, find the top 7\n",
    "top_countries_by_total_cases <- confirmed_cases_by_country %>%\n",
    "  group_by(country) %>%\n",
    "  summarize(total_cases = max(cum_cases)) %>%\n",
    "  top_n(7)\n",
    "top_countries_by_total_cases"
   ]
  },
  {
   "cell_type": "markdown",
   "id": "617298c9",
   "metadata": {},
   "source": [
    "## 9. Plotting hardest hit countries as of Mid-March 2020\n",
    "Even though the outbreak was first identified in China, there is only one country from East Asia (South Korea) in the above table. Four of the listed countries (France, Germany, Italy, and Spain) are in Europe and share borders. To get more context, we can plot these countries' confirmed cases over time."
   ]
  },
  {
   "cell_type": "code",
   "execution_count": 18,
   "id": "64b40d5c",
   "metadata": {},
   "outputs": [
    {
     "name": "stderr",
     "output_type": "stream",
     "text": [
      "\n",
      "\u001b[36m--\u001b[39m \u001b[1m\u001b[1mColumn specification\u001b[1m\u001b[22m \u001b[36m------------------------------------------------------------------------------------------------\u001b[39m\n",
      "cols(\n",
      "  country = col_character(),\n",
      "  date = col_date(format = \"\"),\n",
      "  cum_cases = col_double()\n",
      ")\n",
      "\n"
     ]
    },
    {
     "name": "stdout",
     "output_type": "stream",
     "text": [
      "Rows: 2,030\n",
      "Columns: 3\n",
      "$ country   <chr> \"Germany\", \"Iran\", \"Italy\", \"Korea, South\", \"Spain\", \"US\", \"~\n",
      "$ date      <date> 2020-02-18, 2020-02-18, 2020-02-18, 2020-02-18, 2020-02-18,~\n",
      "$ cum_cases <dbl> 16, 0, 3, 31, 2, 13, 13, 13, 13, 13, 13, 13, 13, 13, 13, 13,~\n"
     ]
    },
    {
     "data": {
      "image/png": "[encoded data removed]",
      "text/plain": [
       "plot without title"
      ]
     },
     "metadata": {},
     "output_type": "display_data"
    }
   ],
   "source": [
    "# Read in the dataset from datasets/confirmed_cases_top7_outside_china.csv\n",
    "confirmed_cases_top7_outside_china <- read_csv(\"C:/Users/Atolb/Downloads/confirmed_cases_top7_outside_china.csv\")\n",
    "\n",
    "# Glimpse at the contents of confirmed_cases_top7_outside_china\n",
    "glimpse(confirmed_cases_top7_outside_china)\n",
    "\n",
    "# Using confirmed_cases_top7_outside_china, draw a line plot of\n",
    "# cum_cases vs. date, colored by country\n",
    "ggplot(confirmed_cases_top7_outside_china) + \n",
    "aes(x=date,y=cum_cases,color=country) + \n",
    "geom_line()"
   ]
  },
  {
   "cell_type": "code",
   "execution_count": null,
   "id": "64743853",
   "metadata": {},
   "outputs": [],
   "source": [
    "head()"
   ]
  }
 ],
 "metadata": {
  "kernelspec": {
   "display_name": "R",
   "language": "R",
   "name": "ir"
  },
  "language_info": {
   "codemirror_mode": "r",
   "file_extension": ".r",
   "mimetype": "text/x-r-source",
   "name": "R",
   "pygments_lexer": "r",
   "version": "3.6.1"
  }
 },
 "nbformat": 4,
 "nbformat_minor": 5
}
